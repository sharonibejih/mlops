{
 "cells": [
  {
   "cell_type": "code",
   "execution_count": 1,
   "id": "a6161690",
   "metadata": {},
   "outputs": [
    {
     "name": "stdout",
     "output_type": "stream",
     "text": [
      "Requirement already satisfied: pyarrow in /root/anaconda3/lib/python3.9/site-packages (8.0.0)\n",
      "Requirement already satisfied: numpy>=1.16.6 in /root/anaconda3/lib/python3.9/site-packages (from pyarrow) (1.21.5)\n",
      "\u001b[33mWARNING: Running pip as the 'root' user can result in broken permissions and conflicting behaviour with the system package manager. It is recommended to use a virtual environment instead: https://pip.pypa.io/warnings/venv\u001b[0m\n"
     ]
    }
   ],
   "source": [
    "!pip install pyarrow"
   ]
  },
  {
   "cell_type": "code",
   "execution_count": 2,
   "id": "a9272e50",
   "metadata": {},
   "outputs": [],
   "source": [
    "import pandas as pd\n",
    "import numpy as np\n",
    "import matplotlib.pyplot as plt\n",
    "import seaborn as sns\n",
    "\n",
    "from sklearn.preprocessing import OneHotEncoder\n",
    "from sklearn.linear_model import LinearRegression\n",
    "from sklearn.metrics import mean_squared_error\n",
    "from sklearn.feature_extraction import DictVectorizer\n",
    "# Vectorization\n",
    "dv = DictVectorizer()\n",
    "\n",
    "import pickle"
   ]
  },
  {
   "cell_type": "code",
   "execution_count": 17,
   "id": "1e9c3aa0",
   "metadata": {},
   "outputs": [],
   "source": [
    "## all preprocessing\n",
    "def read_data(filename):\n",
    "    \n",
    "    df1 = pd.read_parquet(filename)\n",
    "\n",
    "    # duration = drop off time - pick up time\n",
    "    df1.loc[:,\"duration\"] = df1.loc[:,\"dropOff_datetime\"] - df1.loc[:,\"pickup_datetime\"]\n",
    "\n",
    "    # reset index\n",
    "    df1 = df1.reset_index(drop=True)\n",
    "\n",
    "    # convert duration to seconds and then minutes\n",
    "    df1[\"duration\"] = df1[\"duration\"].apply(lambda x:x.total_seconds()/60)\n",
    "\n",
    "    # filter the dataset based on duration (in mins)\n",
    "    df1 = df1[(df1[\"duration\"]>0)&(df1[\"duration\"]<=60)]\n",
    "\n",
    "    # use the pick up location, drop off location and trip distance to predict the ride duration\n",
    "    clean_df = df1[[\"PUlocationID\", \"DOlocationID\", \"duration\"]]\n",
    "    \n",
    "    return clean_df"
   ]
  },
  {
   "cell_type": "code",
   "execution_count": 18,
   "id": "ff59865f",
   "metadata": {},
   "outputs": [
    {
     "data": {
      "text/plain": [
       "(1124850, 3)"
      ]
     },
     "execution_count": 18,
     "metadata": {},
     "output_type": "execute_result"
    }
   ],
   "source": [
    "train_df = read_data(\"./data/fhv_tripdata_2021-01.parquet\")\n",
    "train_df.shape"
   ]
  },
  {
   "cell_type": "code",
   "execution_count": 19,
   "id": "32fe9734",
   "metadata": {},
   "outputs": [
    {
     "data": {
      "text/plain": [
       "(1001841, 3)"
      ]
     },
     "execution_count": 19,
     "metadata": {},
     "output_type": "execute_result"
    }
   ],
   "source": [
    "test_df = read_data(\"./data/fhv_tripdata_2021-02.parquet\")\n",
    "test_df.shape"
   ]
  },
  {
   "cell_type": "code",
   "execution_count": 24,
   "id": "b28336f2",
   "metadata": {},
   "outputs": [
    {
     "name": "stdout",
     "output_type": "stream",
     "text": [
      "263\n"
     ]
    },
    {
     "data": {
      "text/plain": [
       "264"
      ]
     },
     "execution_count": 24,
     "metadata": {},
     "output_type": "execute_result"
    }
   ],
   "source": [
    "print(train_df[\"DOlocationID\"].nunique())\n",
    "print(test_df[\"DOlocationID\"].nunique())"
   ]
  },
  {
   "cell_type": "code",
   "execution_count": 26,
   "id": "6cffc637",
   "metadata": {},
   "outputs": [
    {
     "data": {
      "text/plain": [
       "-1.0     148890\n",
       "76.0      26513\n",
       "217.0     19596\n",
       "265.0     18805\n",
       "17.0      18626\n",
       "          ...  \n",
       "27.0         18\n",
       "30.0         13\n",
       "2.0          11\n",
       "105.0         4\n",
       "199.0         1\n",
       "Name: DOlocationID, Length: 263, dtype: int64"
      ]
     },
     "execution_count": 26,
     "metadata": {},
     "output_type": "execute_result"
    }
   ],
   "source": [
    "train_df[\"DOlocationID\"].value_counts()"
   ]
  },
  {
   "cell_type": "code",
   "execution_count": 31,
   "id": "5a02faa8",
   "metadata": {},
   "outputs": [
    {
     "data": {
      "text/plain": [
       "dtype('O')"
      ]
     },
     "execution_count": 31,
     "metadata": {},
     "output_type": "execute_result"
    }
   ],
   "source": [
    "test_df[\"DOlocationID\"].dtype"
   ]
  },
  {
   "cell_type": "code",
   "execution_count": 32,
   "id": "64d98a31",
   "metadata": {},
   "outputs": [
    {
     "data": {
      "text/plain": [
       "263"
      ]
     },
     "execution_count": 32,
     "metadata": {},
     "output_type": "execute_result"
    }
   ],
   "source": [
    "# drop a unique value to match the number of unique values in train. \"264.0\" just two samples\n",
    "test = test_df[test_df[\"DOlocationID\"]!=\"264.0\"]\n",
    "test[\"DOlocationID\"].nunique()"
   ]
  },
  {
   "cell_type": "code",
   "execution_count": 20,
   "id": "406f2379",
   "metadata": {},
   "outputs": [],
   "source": [
    "# data transformation\n",
    "def transform_data(df1, categorical):\n",
    "    \n",
    "    df1[\"PUlocationID\"] = df1[\"PUlocationID\"].fillna(-1)\n",
    "    df1[\"DOlocationID\"] = df1[\"DOlocationID\"].fillna(-1)\n",
    "    \n",
    "    df1[categorical] = df1[categorical].astype(str)\n",
    "    \n",
    "    X = df1[categorical]\n",
    "    X = df1[categorical].to_dict(orient=\"records\")\n",
    "    X = dv.fit_transform(X) # DictVectorizer\n",
    "    y = df1[\"duration\"]\n",
    "    \n",
    "    return X, y"
   ]
  },
  {
   "cell_type": "code",
   "execution_count": 33,
   "id": "a589417e",
   "metadata": {},
   "outputs": [
    {
     "name": "stderr",
     "output_type": "stream",
     "text": [
      "/tmp/ipykernel_3210/4209974648.py:4: SettingWithCopyWarning: \n",
      "A value is trying to be set on a copy of a slice from a DataFrame.\n",
      "Try using .loc[row_indexer,col_indexer] = value instead\n",
      "\n",
      "See the caveats in the documentation: https://pandas.pydata.org/pandas-docs/stable/user_guide/indexing.html#returning-a-view-versus-a-copy\n",
      "  df1[\"PUlocationID\"] = df1[\"PUlocationID\"].fillna(-1)\n",
      "/tmp/ipykernel_3210/4209974648.py:5: SettingWithCopyWarning: \n",
      "A value is trying to be set on a copy of a slice from a DataFrame.\n",
      "Try using .loc[row_indexer,col_indexer] = value instead\n",
      "\n",
      "See the caveats in the documentation: https://pandas.pydata.org/pandas-docs/stable/user_guide/indexing.html#returning-a-view-versus-a-copy\n",
      "  df1[\"DOlocationID\"] = df1[\"DOlocationID\"].fillna(-1)\n",
      "/tmp/ipykernel_3210/4209974648.py:7: SettingWithCopyWarning: \n",
      "A value is trying to be set on a copy of a slice from a DataFrame.\n",
      "Try using .loc[row_indexer,col_indexer] = value instead\n",
      "\n",
      "See the caveats in the documentation: https://pandas.pydata.org/pandas-docs/stable/user_guide/indexing.html#returning-a-view-versus-a-copy\n",
      "  df1[categorical] = df1[categorical].astype(str)\n"
     ]
    }
   ],
   "source": [
    "categorical = [\"PUlocationID\", \"DOlocationID\"]\n",
    "X_train, y_train = transform_data(train_df, categorical)\n",
    "X_test, y_test = transform_data(test, categorical)"
   ]
  },
  {
   "cell_type": "code",
   "execution_count": 34,
   "id": "a41a3fae",
   "metadata": {},
   "outputs": [
    {
     "data": {
      "text/plain": [
       "LinearRegression()"
      ]
     },
     "execution_count": 34,
     "metadata": {},
     "output_type": "execute_result"
    }
   ],
   "source": [
    "# model building\n",
    "lr = LinearRegression()\n",
    "lr.fit(X_train, y_train)"
   ]
  },
  {
   "cell_type": "markdown",
   "id": "a1b9773c",
   "metadata": {},
   "source": [
    "#### Model Testing"
   ]
  },
  {
   "cell_type": "code",
   "execution_count": 35,
   "id": "49efed6e",
   "metadata": {},
   "outputs": [],
   "source": [
    "# predicting on same train data to see how the model fits\n",
    "y_train_pred = lr.predict(X_train)"
   ]
  },
  {
   "cell_type": "code",
   "execution_count": 36,
   "id": "eb15a545",
   "metadata": {},
   "outputs": [
    {
     "name": "stderr",
     "output_type": "stream",
     "text": [
      "/root/anaconda3/lib/python3.9/site-packages/seaborn/distributions.py:2619: FutureWarning: `distplot` is a deprecated function and will be removed in a future version. Please adapt your code to use either `displot` (a figure-level function with similar flexibility) or `histplot` (an axes-level function for histograms).\n",
      "  warnings.warn(msg, FutureWarning)\n",
      "/root/anaconda3/lib/python3.9/site-packages/seaborn/distributions.py:2619: FutureWarning: `distplot` is a deprecated function and will be removed in a future version. Please adapt your code to use either `displot` (a figure-level function with similar flexibility) or `histplot` (an axes-level function for histograms).\n",
      "  warnings.warn(msg, FutureWarning)\n"
     ]
    },
    {
     "data": {
      "image/png": "[encoded data removed]",
      "text/plain": [
       "<Figure size 432x288 with 1 Axes>"
      ]
     },
     "metadata": {
      "needs_background": "light"
     },
     "output_type": "display_data"
    }
   ],
   "source": [
    "sns.distplot(y_train_pred, label=\"prediction\")\n",
    "sns.distplot(y_train, label=\"actual\")\n",
    "plt.legend()\n",
    "plt.show()"
   ]
  },
  {
   "cell_type": "code",
   "execution_count": 40,
   "id": "a1e494b3",
   "metadata": {},
   "outputs": [
    {
     "data": {
      "text/plain": [
       "10.629704061672262"
      ]
     },
     "execution_count": 40,
     "metadata": {},
     "output_type": "execute_result"
    }
   ],
   "source": [
    "# performance on train\n",
    "mean_squared_error(y_train_pred, y_train, squared=False)"
   ]
  },
  {
   "cell_type": "code",
   "execution_count": 38,
   "id": "29ea9690",
   "metadata": {},
   "outputs": [],
   "source": [
    "# predicting on test data to see how the model performs\n",
    "y_test_pred = lr.predict(X_test)"
   ]
  },
  {
   "cell_type": "code",
   "execution_count": 39,
   "id": "39272105",
   "metadata": {},
   "outputs": [
    {
     "data": {
      "text/plain": [
       "12.028745641647713"
      ]
     },
     "execution_count": 39,
     "metadata": {},
     "output_type": "execute_result"
    }
   ],
   "source": [
    "# performance on test\n",
    "mean_squared_error(y_test_pred, y_test, squared=False)"
   ]
  },
  {
   "cell_type": "code",
   "execution_count": null,
   "id": "ad0c4a43",
   "metadata": {},
   "outputs": [],
   "source": []
  }
 ],
 "metadata": {
  "kernelspec": {
   "display_name": "Python 3 (ipykernel)",
   "language": "python",
   "name": "python3"
  },
  "language_info": {
   "codemirror_mode": {
    "name": "ipython",
    "version": 3
   },
   "file_extension": ".py",
   "mimetype": "text/x-python",
   "name": "python",
   "nbconvert_exporter": "python",
   "pygments_lexer": "ipython3",
   "version": "3.9.12"
  }
 },
 "nbformat": 4,
 "nbformat_minor": 5
}
