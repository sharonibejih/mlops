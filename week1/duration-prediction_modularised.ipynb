{
 "cells": [
  {
   "cell_type": "markdown",
   "id": "de677372",
   "metadata": {},
   "source": [
    "This notebook is a re-factoring of `duration-prediction_experiment.ipynb`. Each step is put together in a cell.\n",
    "`df1 is used for training`, while `df2 is used for validation`."
   ]
  },
  {
   "cell_type": "code",
   "execution_count": 1,
   "id": "a6161690",
   "metadata": {},
   "outputs": [
    {
     "name": "stdout",
     "output_type": "stream",
     "text": [
      "Requirement already satisfied: pyarrow in /root/anaconda3/lib/python3.9/site-packages (8.0.0)\n",
      "Requirement already satisfied: numpy>=1.16.6 in /root/anaconda3/lib/python3.9/site-packages (from pyarrow) (1.21.5)\n",
      "\u001b[33mWARNING: Running pip as the 'root' user can result in broken permissions and conflicting behaviour with the system package manager. It is recommended to use a virtual environment instead: https://pip.pypa.io/warnings/venv\u001b[0m\n"
     ]
    }
   ],
   "source": [
    "!pip install pyarrow"
   ]
  },
  {
   "cell_type": "code",
   "execution_count": 14,
   "id": "a9272e50",
   "metadata": {},
   "outputs": [],
   "source": [
    "import pandas as pd\n",
    "import numpy as np\n",
    "import matplotlib.pyplot as plt\n",
    "import seaborn as sns\n",
    "\n",
    "from sklearn.preprocessing import OneHotEncoder\n",
    "from sklearn.linear_model import LinearRegression\n",
    "from sklearn.metrics import mean_squared_error\n",
    "\n",
    "import pickle"
   ]
  },
  {
   "cell_type": "code",
   "execution_count": 3,
   "id": "1e9c3aa0",
   "metadata": {},
   "outputs": [],
   "source": [
    "## all preprocessing\n",
    "def read_data(filename):\n",
    "    \n",
    "    df1 = pd.read_parquet(filename)\n",
    "\n",
    "    # select samples of trip_type==2 (dispatched)\n",
    "    df1 = df1[df1[\"trip_type\"]==2]\n",
    "\n",
    "    # duration = drop off time - pick up time\n",
    "    df1.loc[:,\"duration\"] = df1.loc[:,\"lpep_dropoff_datetime\"] - df1.loc[:,\"lpep_pickup_datetime\"]\n",
    "\n",
    "    # reset index\n",
    "    df1 = df1.reset_index(drop=True)\n",
    "\n",
    "    # convert duration to seconds and then minutes\n",
    "    df1[\"duration\"] = df1[\"duration\"].apply(lambda x:x.total_seconds()/60)\n",
    "\n",
    "    # filter the dataset based on duration (in mins)\n",
    "    df1 = df1[(df1[\"duration\"]>0)&(df1[\"duration\"]<=60)]\n",
    "\n",
    "    # use the pick up location, drop off location and trip distance to predict the ride duration\n",
    "    clean_df = df1[[\"PULocationID\", \"DOLocationID\", \"trip_distance\", \"duration\"]]\n",
    "    \n",
    "    return clean_df"
   ]
  },
  {
   "cell_type": "code",
   "execution_count": 4,
   "id": "ff59865f",
   "metadata": {},
   "outputs": [
    {
     "data": {
      "text/plain": [
       "(1209, 4)"
      ]
     },
     "execution_count": 4,
     "metadata": {},
     "output_type": "execute_result"
    }
   ],
   "source": [
    "train_df = read_data(\"./data/green_tripdata_2021-01.parquet\")\n",
    "train_df.shape"
   ]
  },
  {
   "cell_type": "code",
   "execution_count": 5,
   "id": "32fe9734",
   "metadata": {},
   "outputs": [
    {
     "data": {
      "text/plain": [
       "(1060, 4)"
      ]
     },
     "execution_count": 5,
     "metadata": {},
     "output_type": "execute_result"
    }
   ],
   "source": [
    "test_df = read_data(\"./data/green_tripdata_2021-02.parquet\")\n",
    "test_df.shape"
   ]
  },
  {
   "cell_type": "code",
   "execution_count": 6,
   "id": "406f2379",
   "metadata": {},
   "outputs": [],
   "source": [
    "# one hot encoding data transformation\n",
    "def ohe_transform_data(df, categorical, non_categorical):\n",
    "    \n",
    "    ohe = OneHotEncoder()\n",
    "    cat = ohe.fit_transform(df[categorical]).toarray()\n",
    "\n",
    "    col_names = ohe.get_feature_names_out(categorical)\n",
    "\n",
    "    cat_df = pd.DataFrame(cat, columns=col_names)\n",
    "\n",
    "    df = pd.concat([cat_df, df[non_categorical]], axis=1)\n",
    "\n",
    "    df.dropna(inplace=True)\n",
    "    \n",
    "    return df"
   ]
  },
  {
   "cell_type": "code",
   "execution_count": 7,
   "id": "a589417e",
   "metadata": {},
   "outputs": [],
   "source": [
    "categorical = [\"PULocationID\", \"DOLocationID\"]\n",
    "non_categorical = [\"trip_distance\", \"duration\"]"
   ]
  },
  {
   "cell_type": "code",
   "execution_count": 10,
   "id": "0f2d6935",
   "metadata": {},
   "outputs": [],
   "source": [
    "train = ohe_transform_data(train_df, categorical, non_categorical)\n",
    "test = ohe_transform_data(test_df, categorical, non_categorical)"
   ]
  },
  {
   "cell_type": "code",
   "execution_count": 11,
   "id": "da532e70",
   "metadata": {},
   "outputs": [
    {
     "name": "stdout",
     "output_type": "stream",
     "text": [
      "Len of Train: 1209\n",
      "Len of Valid: 1060\n"
     ]
    }
   ],
   "source": [
    "X_train = train_df.loc[:,:\"duration\"]\n",
    "y_train = train_df.loc[:,\"duration\"]\n",
    "\n",
    "X_val = test_df.loc[:,:\"duration\"]\n",
    "y_val = test_df.loc[:,\"duration\"]\n",
    "\n",
    "print(f\"Len of Train: {len(X_train)}\")\n",
    "print(f\"Len of Valid: {len(X_val)}\")"
   ]
  },
  {
   "cell_type": "code",
   "execution_count": 12,
   "id": "ce025d00",
   "metadata": {},
   "outputs": [
    {
     "data": {
      "text/plain": [
       "4.829461139727947e-15"
      ]
     },
     "execution_count": 12,
     "metadata": {},
     "output_type": "execute_result"
    }
   ],
   "source": [
    "# model fitting\n",
    "lr = LinearRegression()\n",
    "lr.fit(X_train, y_train)\n",
    "\n",
    "# predict on same train data to see how the model is fitting\n",
    "y_pred = lr.predict(X_val)\n",
    "\n",
    "# model evaluation\n",
    "mean_squared_error(y_pred, y_val, squared=False)"
   ]
  },
  {
   "cell_type": "code",
   "execution_count": 13,
   "id": "860c7906",
   "metadata": {},
   "outputs": [
    {
     "data": {
      "image/png": "[encoded data removed]",
      "text/plain": [
       "<Figure size 432x288 with 1 Axes>"
      ]
     },
     "metadata": {
      "needs_background": "light"
     },
     "output_type": "display_data"
    }
   ],
   "source": [
    "plt.plot(y_pred, label=\"prediction\")\n",
    "plt.plot(y_val, label=\"actual\")\n",
    "plt.legend()\n",
    "plt.show()"
   ]
  },
  {
   "cell_type": "code",
   "execution_count": 15,
   "id": "b7bf139c",
   "metadata": {},
   "outputs": [],
   "source": [
    "# save model\n",
    "!mkdir models"
   ]
  },
  {
   "cell_type": "code",
   "execution_count": 16,
   "id": "4861f066",
   "metadata": {},
   "outputs": [
    {
     "name": "stdout",
     "output_type": "stream",
     "text": [
      "data\t\t\t\t      duration-prediction_modularised.ipynb\r\n",
      "duration-prediction_experiment.ipynb  models\r\n"
     ]
    }
   ],
   "source": [
    "!ls"
   ]
  },
  {
   "cell_type": "code",
   "execution_count": 17,
   "id": "c41cd710",
   "metadata": {},
   "outputs": [],
   "source": [
    "# dump the model and one-hot encoding object as a pickle file\n",
    "with open(\"./models/linear_model.bin\", \"wb\") as f_out:\n",
    "    pickle.dump((ohe, lr), f_out)"
   ]
  },
  {
   "cell_type": "code",
   "execution_count": null,
   "id": "ad0c4a43",
   "metadata": {},
   "outputs": [],
   "source": []
  }
 ],
 "metadata": {
  "kernelspec": {
   "display_name": "Python 3 (ipykernel)",
   "language": "python",
   "name": "python3"
  },
  "language_info": {
   "codemirror_mode": {
    "name": "ipython",
    "version": 3
   },
   "file_extension": ".py",
   "mimetype": "text/x-python",
   "name": "python",
   "nbconvert_exporter": "python",
   "pygments_lexer": "ipython3",
   "version": "3.9.12"
  }
 },
 "nbformat": 4,
 "nbformat_minor": 5
}
